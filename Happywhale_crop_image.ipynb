{
 "cells": [
  {
   "cell_type": "code",
   "execution_count": null,
   "metadata": {
    "execution": {
     "iopub.execute_input": "2022-02-21T20:22:00.341575Z",
     "iopub.status.busy": "2022-02-21T20:22:00.341352Z",
     "iopub.status.idle": "2022-02-21T20:22:04.359171Z",
     "shell.execute_reply": "2022-02-21T20:22:04.358285Z",
     "shell.execute_reply.started": "2022-02-21T20:22:00.341545Z"
    }
   },
   "outputs": [],
   "source": [
    "import os\n",
    "import gc\n",
    "import cv2\n",
    "import math\n",
    "import copy\n",
    "import time\n",
    "import random\n",
    "\n",
    "# For data manipulation\n",
    "import numpy as np\n",
    "import pandas as pd\n",
    "\n",
    "# Utils\n",
    "import joblib\n",
    "from tqdm import tqdm\n",
    "from collections import defaultdict\n",
    "import matplotlib.pyplot as plt\n",
    "%matplotlib inline\n",
    "\n",
    "import warnings\n",
    "warnings.filterwarnings(\"ignore\")\n",
    "\n",
    "def set_seed(seed=42):\n",
    "    '''\n",
    "    随机种子\n",
    "    '''\n",
    "    '''Sets the seed of the entire notebook so results are the same every time we run.\n",
    "    This is for REPRODUCIBILITY.'''\n",
    "    np.random.seed(seed)\n",
    "    # Set a fixed value for the hash seed\n",
    "    os.environ['PYTHONHASHSEED'] = str(seed)\n",
    "    \n",
    "set_seed(42)"
   ]
  },
  {
   "cell_type": "code",
   "execution_count": null,
   "metadata": {
    "execution": {
     "iopub.execute_input": "2022-02-21T20:22:06.380184Z",
     "iopub.status.busy": "2022-02-21T20:22:06.378261Z",
     "iopub.status.idle": "2022-02-21T20:22:06.385942Z",
     "shell.execute_reply": "2022-02-21T20:22:06.385142Z",
     "shell.execute_reply.started": "2022-02-21T20:22:06.380147Z"
    }
   },
   "outputs": [],
   "source": [
    "ROOT_DIR = '/home/xm/workspace/happy-whale-and-dolphin'\n",
    "TRAIN_DIR = '/home/xm/workspace/happy-whale-and-dolphin/train_images'\n",
    "TEST_DIR = '/home/xm/workspace/happy-whale-and-dolphin/test_images'\n",
    "train_fullbody_csv_dir = f\"{ROOT_DIR}/train_fullbody.csv\" # train fullbody annotation\n",
    "train_backfins_csv_dir = f\"{ROOT_DIR}/train_backfins.csv\" # fullbody annotation\n",
    "test_fullbody_csv_dir = f\"{ROOT_DIR}/test_fullbody.csv\" # fullbody annotation\n",
    "test_backfins_csv_dir = f\"{ROOT_DIR}/test_backfins.csv\" # fullbody annotation"
   ]
  },
  {
   "cell_type": "code",
   "execution_count": null,
   "metadata": {},
   "outputs": [],
   "source": [
    "def df_bbox(bbox_list, data_type=\"fullbody\"):\n",
    "    '''\n",
    "    格式化dataframe\n",
    "    '''\n",
    "    new_bboxes_list = []\n",
    "    for bbox in tqdm(bbox_list): \n",
    "        if pd.isna(bbox):\n",
    "            new_bboxes_list.append([]) # 如果bbox为空，则返回空列表\n",
    "            continue\n",
    "        try:\n",
    "            # str to list: [x_min, y_min, x_max, y_max] \n",
    "            bbox = bbox.replace(\"[\",\"\").replace(\"]\",\"\") \n",
    "            if data_type==\"fullbody\":\n",
    "                bbox = bbox.split(\"  \")\n",
    "            elif data_type==\"backfins\":\n",
    "                bbox = bbox.split(\" \")\n",
    "            else:\n",
    "                raise \"data_type is not right\"\n",
    "        except:\n",
    "            # error print for debug\n",
    "            print(bbox)\n",
    "            print(type(bbox))\n",
    "            print(bbox == np.nan)\n",
    "            print(pd.isna(bbox))\n",
    "        \n",
    "        bbox = [int(i) for i in bbox if i not in ['', \" \"]] # 清除多余符号\n",
    "        assert len(bbox) == 4\n",
    "        new_bboxes_list.append(bbox) # 加入新的bboxes list\n",
    "\n",
    "    assert len(bbox_list) == len(new_bboxes_list)\n",
    "    return new_bboxes_list"
   ]
  },
  {
   "cell_type": "markdown",
   "metadata": {},
   "source": [
    "# fullbody"
   ]
  },
  {
   "cell_type": "code",
   "execution_count": null,
   "metadata": {},
   "outputs": [],
   "source": [
    "# train_fullbody_df 中bbox str to list\n",
    "train_fullbody_df = pd.read_csv(train_fullbody_csv_dir)\n",
    "bbox_list = train_fullbody_df[\"bbox\"].to_list()\n",
    "train_fullbody_df[\"bbox\"] = df_bbox(bbox_list)\n",
    "train_fullbody_df.head()"
   ]
  },
  {
   "cell_type": "code",
   "execution_count": null,
   "metadata": {},
   "outputs": [],
   "source": [
    "# 裁剪图片并保存\n",
    "for _, image, bbox, _  in tqdm(train_fullbody_df.itertuples(), total=len(train_fullbody_df)):\n",
    "    if bbox != []:\n",
    "        img = cv2.imread(f\"{TRAIN_DIR}/{image}\") # 读取\n",
    "        # img = cv2.cvtColor(img, cv2.COLOR_BGR2RGB)\n",
    "        img = img[bbox[1]:bbox[3],bbox[0]:bbox[2]] # crop\n",
    "    cv2.imwrite(f'{ROOT_DIR}/train_fullbody_images/{image}', img) # save"
   ]
  },
  {
   "cell_type": "code",
   "execution_count": null,
   "metadata": {},
   "outputs": [],
   "source": [
    "# test_fullbody_df 中bbox str to list\n",
    "test_fullbody_df = pd.read_csv(test_fullbody_csv_dir)\n",
    "bbox_list = test_fullbody_df[\"bbox\"].to_list()\n",
    "test_fullbody_df[\"bbox\"] = df_bbox(bbox_list)\n",
    "test_fullbody_df.head()"
   ]
  },
  {
   "cell_type": "code",
   "execution_count": null,
   "metadata": {},
   "outputs": [],
   "source": [
    "# 裁剪图片并保存\n",
    "for _, image, bbox, _  in tqdm(test_fullbody_df.itertuples(), total=len(test_fullbody_df)):\n",
    "    if bbox != []:\n",
    "        img = cv2.imread(f\"{TEST_DIR}/{image}\") # 读取\n",
    "        # img = cv2.cvtColor(img, cv2.COLOR_BGR2RGB)\n",
    "        img = img[bbox[1]:bbox[3],bbox[0]:bbox[2]] # crop\n",
    "    cv2.imwrite(f'{ROOT_DIR}/test_fullbody_images/{image}', img) # save"
   ]
  },
  {
   "cell_type": "markdown",
   "metadata": {},
   "source": [
    "# backfins"
   ]
  },
  {
   "cell_type": "code",
   "execution_count": null,
   "metadata": {},
   "outputs": [],
   "source": [
    "# train_backfins_df 中bbox str to list\n",
    "train_backfins_df = pd.read_csv(train_backfins_csv_dir)\n",
    "bbox_list = train_backfins_df[\"bbox\"].to_list()\n",
    "train_backfins_df[\"bbox\"] = df_bbox(bbox_list,\"backfins\")\n",
    "train_backfins_df.head()"
   ]
  },
  {
   "cell_type": "code",
   "execution_count": null,
   "metadata": {},
   "outputs": [],
   "source": [
    "# 裁剪图片并保存\n",
    "for _, image, bbox in tqdm(train_backfins_df[[\"image\",\"bbox\"]].itertuples(), total=len(train_backfins_df)):\n",
    "    if bbox != []:\n",
    "        img = cv2.imread(f\"{TRAIN_DIR}/{image}\") # 读取\n",
    "        # img = cv2.cvtColor(img, cv2.COLOR_BGR2RGB)\n",
    "        img = img[bbox[1]:bbox[3],bbox[0]:bbox[2]] # crop\n",
    "    cv2.imwrite(f'{ROOT_DIR}/train_backfins_images/{image}', img) # save"
   ]
  },
  {
   "cell_type": "code",
   "execution_count": null,
   "metadata": {},
   "outputs": [],
   "source": [
    "# test_backfins_df 中bbox str to list\n",
    "test_backfins_df = pd.read_csv(test_backfins_csv_dir)\n",
    "bbox_list = test_backfins_df[\"bbox\"].to_list()\n",
    "test_backfins_df[\"bbox\"] = df_bbox(bbox_list,\"backfins\")\n",
    "test_backfins_df.head()"
   ]
  },
  {
   "cell_type": "code",
   "execution_count": null,
   "metadata": {},
   "outputs": [],
   "source": [
    "# 裁剪图片并保存\n",
    "saved_list = os.listdir(f'{ROOT_DIR}/test_backfins_images/')\n",
    "for _, image, bbox in tqdm(test_backfins_df[[\"image\",\"bbox\"]].itertuples(), total=len(test_backfins_df)):\n",
    "    if image in saved_list:\n",
    "        continue\n",
    "    if bbox != []:\n",
    "        img = cv2.imread(f\"{TEST_DIR}/{image}\") # 读取\n",
    "        # img = cv2.cvtColor(img, cv2.COLOR_BGR2RGB)\n",
    "        img = img[bbox[1]:bbox[3],bbox[0]:bbox[2]] # crop\n",
    "    try:\n",
    "        cv2.imwrite(f'{ROOT_DIR}/test_backfins_images/{image}', img) # save\n",
    "    except:\n",
    "        print(image)\n",
    "        print(img.shape)"
   ]
  }
 ],
 "metadata": {
  "kernelspec": {
   "display_name": "Python 3 (ipykernel)",
   "language": "python",
   "name": "python3"
  },
  "language_info": {
   "codemirror_mode": {
    "name": "ipython",
    "version": 3
   },
   "file_extension": ".py",
   "mimetype": "text/x-python",
   "name": "python",
   "nbconvert_exporter": "python",
   "pygments_lexer": "ipython3",
   "version": "3.9.7"
  }
 },
 "nbformat": 4,
 "nbformat_minor": 4
}
